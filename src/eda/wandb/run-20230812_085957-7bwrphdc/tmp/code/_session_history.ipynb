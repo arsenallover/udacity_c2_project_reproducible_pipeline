{
 "cells": [
  {
   "cell_type": "code",
   "execution_count": 1,
   "id": "6345eccd",
   "metadata": {},
   "outputs": [],
   "source": [
    "import wandb\n",
    "import pandas as pd\n",
    "# import pandas_profiling\n",
    "import matplotlib.pyplot as plt"
   ]
  },
  {
   "cell_type": "code",
   "execution_count": 2,
   "id": "f6740d9a",
   "metadata": {},
   "outputs": [],
   "source": [
    "def plot_boxplot(df, num_var):\n",
    "    # Create price box plot\n",
    "    fig = plt.figure(figsize =(10, 7))\n",
    "    plt.boxplot(df[num_var])\n",
    "    # show plot\n",
    "    plt.show()"
   ]
  },
  {
   "cell_type": "code",
   "execution_count": 3,
   "id": "778344ff",
   "metadata": {},
   "outputs": [],
   "source": [
    "def plot_histrogram(df, num_var, num_bins = 50):\n",
    "    # created distibution\n",
    "    fig = plt.figure(figsize =(10, 7))\n",
    "    plt.hist(df[num_var], bins = num_bins , color = 'blue', edgecolor = 'black')\n",
    "    plt.show()"
   ]
  },
  {
   "cell_type": "code",
   "execution_count": 4,
   "id": "d6d0b374",
   "metadata": {},
   "outputs": [
    {
     "data": {
      "text/html": [
       "Tracking run with wandb version 0.15.8"
      ],
      "text/plain": [
       "<IPython.core.display.HTML object>"
      ]
     },
     "metadata": {},
     "output_type": "display_data"
    },
    {
     "data": {
      "text/html": [
       "Run data is saved locally in <code>/Users/apple/Desktop/ranga_udacity/c3_project/nyc-rental-prices-predictions-ml-pipeline/src/eda/wandb/run-20230812_085957-7bwrphdc</code>"
      ],
      "text/plain": [
       "<IPython.core.display.HTML object>"
      ]
     },
     "metadata": {},
     "output_type": "display_data"
    },
    {
     "data": {
      "text/html": [
       "Syncing run <strong><a href='https://wandb.ai/rangarajp1308/nyc_airbnb/runs/7bwrphdc' target=\"_blank\">radiant-river-84</a></strong> to <a href='https://wandb.ai/rangarajp1308/nyc_airbnb' target=\"_blank\">Weights & Biases</a> (<a href='https://wandb.me/run' target=\"_blank\">docs</a>)<br/>"
      ],
      "text/plain": [
       "<IPython.core.display.HTML object>"
      ]
     },
     "metadata": {},
     "output_type": "display_data"
    },
    {
     "data": {
      "text/html": [
       " View project at <a href='https://wandb.ai/rangarajp1308/nyc_airbnb' target=\"_blank\">https://wandb.ai/rangarajp1308/nyc_airbnb</a>"
      ],
      "text/plain": [
       "<IPython.core.display.HTML object>"
      ]
     },
     "metadata": {},
     "output_type": "display_data"
    },
    {
     "data": {
      "text/html": [
       " View run at <a href='https://wandb.ai/rangarajp1308/nyc_airbnb/runs/7bwrphdc' target=\"_blank\">https://wandb.ai/rangarajp1308/nyc_airbnb/runs/7bwrphdc</a>"
      ],
      "text/plain": [
       "<IPython.core.display.HTML object>"
      ]
     },
     "metadata": {},
     "output_type": "display_data"
    }
   ],
   "source": [
    " run = wandb.init(project=\"nyc_airbnb\", group=\"eda\", save_code=True)\n",
    " local_path = wandb.use_artifact(\"sample.csv:latest\").file()\n",
    " df = pd.read_csv(local_path)"
   ]
  },
  {
   "cell_type": "code",
   "execution_count": 5,
   "id": "1d7e40e6",
   "metadata": {},
   "outputs": [],
   "source": [
    "df.info()"
   ]
  },
  {
   "cell_type": "code",
   "execution_count": 6,
   "id": "154ff7ff",
   "metadata": {},
   "outputs": [
    {
     "name": "stdout",
     "output_type": "stream",
     "text": [
      "         id                                               name    host_id  \\\n",
      "0   9138664                Private Lg Room 15 min to Manhattan   47594947   \n",
      "1  31444015  TIME SQUARE CHARMING ONE BED IN HELL'S KITCHEN...    8523790   \n",
      "2   8741020  Voted #1 Location Quintessential 1BR W Village...   45854238   \n",
      "3  34602077  Spacious 1 bedroom apartment 15min from Manhattan  261055465   \n",
      "4  23203149   Big beautiful bedroom in huge Bushwick apartment     143460   \n",
      "\n",
      "  host_name neighbourhood_group   neighbourhood  latitude  longitude  \\\n",
      "0      Iris              Queens       Sunnyside  40.74271  -73.92493   \n",
      "1    Johlex           Manhattan  Hell's Kitchen  40.76682  -73.98878   \n",
      "2      John           Manhattan    West Village  40.73631  -74.00611   \n",
      "3     Regan              Queens         Astoria  40.76424  -73.92351   \n",
      "4     Megan            Brooklyn        Bushwick  40.69839  -73.92044   \n",
      "\n",
      "         room_type  price  minimum_nights  number_of_reviews last_review  \\\n",
      "0     Private room     74               2                  6  2019-05-26   \n",
      "1  Entire home/apt    170               3                  0         NaN   \n",
      "2  Entire home/apt    245               3                 51  2018-09-19   \n",
      "3  Entire home/apt    125               3                  1  2019-05-24   \n",
      "4     Private room     65               2                  8  2019-06-23   \n",
      "\n",
      "   reviews_per_month  calculated_host_listings_count  availability_365  \n",
      "0               0.13                               1                 5  \n",
      "1                NaN                               1               188  \n",
      "2               1.12                               1                 0  \n",
      "3               0.65                               1                13  \n",
      "4               0.52                               2                 8  "
     ]
    }
   ],
   "source": [
    "df.head()"
   ]
  },
  {
   "cell_type": "code",
   "execution_count": 7,
   "id": "99635afa",
   "metadata": {},
   "outputs": [],
   "source": [
    "run.finish()"
   ]
  }
 ],
 "metadata": {
  "kernelspec": {
   "display_name": "Python 3",
   "language": "python",
   "name": "python3"
  },
  "language_info": {
   "codemirror_mode": {
    "name": "ipython",
    "version": 3
   },
   "file_extension": ".py",
   "mimetype": "text/x-python",
   "name": "python",
   "nbconvert_exporter": "python",
   "pygments_lexer": "ipython3",
   "version": "3.9.17"
  }
 },
 "nbformat": 4,
 "nbformat_minor": 5
}
