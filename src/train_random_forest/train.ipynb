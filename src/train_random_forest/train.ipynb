{
 "cells": [
  {
   "cell_type": "code",
   "execution_count": 47,
   "id": "3c731900",
   "metadata": {},
   "outputs": [],
   "source": [
    "import matplotlib.pyplot as plt\n",
    "\n",
    "import mlflow\n",
    "import json\n",
    "\n",
    "import pandas as pd\n",
    "import numpy as np\n",
    "from sklearn.compose import ColumnTransformer\n",
    "from sklearn.feature_extraction.text import TfidfVectorizer\n",
    "from sklearn.impute import SimpleImputer\n",
    "from sklearn.model_selection import train_test_split\n",
    "from sklearn.preprocessing import OrdinalEncoder, OneHotEncoder, FunctionTransformer\n",
    "\n",
    "import wandb\n",
    "from sklearn.ensemble import RandomForestRegressor\n",
    "from sklearn.metrics import mean_absolute_error\n",
    "from sklearn.pipeline import Pipeline, make_pipeline"
   ]
  },
  {
   "cell_type": "markdown",
   "id": "b2924581",
   "metadata": {},
   "source": [
    "Fetch the artifact we just created (sample.csv) from W&B and read it with pandas. "
   ]
  },
  {
   "cell_type": "code",
   "execution_count": 48,
   "id": "4503c979",
   "metadata": {},
   "outputs": [
    {
     "data": {
      "text/html": [
       "\n",
       "                Tracking run with wandb version 0.10.31<br/>\n",
       "                Syncing run <strong style=\"color:#cdcd00\">decent-flower-64</strong> to <a href=\"https://wandb.ai\" target=\"_blank\">Weights & Biases</a> <a href=\"https://docs.wandb.com/integrations/jupyter.html\" target=\"_blank\">(Documentation)</a>.<br/>\n",
       "                Project page: <a href=\"https://wandb.ai/rangarajp1308/nyc_airbnb\" target=\"_blank\">https://wandb.ai/rangarajp1308/nyc_airbnb</a><br/>\n",
       "                Run page: <a href=\"https://wandb.ai/rangarajp1308/nyc_airbnb/runs/3bxy969r\" target=\"_blank\">https://wandb.ai/rangarajp1308/nyc_airbnb/runs/3bxy969r</a><br/>\n",
       "                Run data is saved locally in <code>/Users/apple/Desktop/ranga_udacity/nd0821-c2-build-model-workflow-starter/src/train_random_forest/wandb/run-20230811_061847-3bxy969r</code><br/><br/>\n",
       "            "
      ],
      "text/plain": [
       "<IPython.core.display.HTML object>"
      ]
     },
     "metadata": {},
     "output_type": "display_data"
    }
   ],
   "source": [
    "run = wandb.init(project='nyc_airbnb', group=\"development\", job_type=\"train_random_forest\")\n",
    "local_path = wandb.use_artifact(\"trainval_data.csv:latest\").file()\n",
    "# df = pd.read_csv(local_path)\n",
    "# df.head()"
   ]
  },
  {
   "cell_type": "code",
   "execution_count": 49,
   "id": "f0e94933",
   "metadata": {},
   "outputs": [],
   "source": [
    "X = pd.read_csv(local_path)\n",
    "y = X.pop(\"price\")  # this removes the column \"price\" from X and puts it into y\n",
    "\n",
    "X_train, X_val, y_train, y_val = train_test_split(\n",
    "    X, y, test_size=0.2, stratify=X['neighbourhood_group'], random_state=42\n",
    ")"
   ]
  },
  {
   "cell_type": "code",
   "execution_count": 50,
   "id": "169afdb7",
   "metadata": {},
   "outputs": [],
   "source": [
    "rf_config = {\"n_estimators\": 100, \"max_depth\": 5, \"min_samples_split\": 4, \"min_samples_leaf\": 3, \\\n",
    "             \"n_jobs\": -1, \"criterion\": \"absolute_error\", \"max_features\": 0.33, \"oob_score\": True}\n",
    "max_tfidf_features =30\n",
    "def get_inference_pipeline(rf_config, max_tfidf_features):\n",
    "    # Let's handle the categorical features first\n",
    "    # Ordinal categorical are categorical values for which the order is meaningful, for example\n",
    "    # for room type: 'Entire home/apt' > 'Private room' > 'Shared room'\n",
    "    ordinal_categorical = [\"room_type\"]\n",
    "    non_ordinal_categorical = [\"neighbourhood_group\"]\n",
    "    # NOTE: we do not need to impute room_type because the type of the room\n",
    "    # is mandatory on the websites, so missing values are not possible in production\n",
    "    # (nor during training). That is not true for neighbourhood_group\n",
    "    ordinal_categorical_preproc = OrdinalEncoder()\n",
    "\n",
    "    ######################################\n",
    "    # Build a pipeline with two steps:\n",
    "    # 1 - A SimpleImputer(strategy=\"most_frequent\") to impute missing values\n",
    "    # 2 - A OneHotEncoder() step to encode the variable\n",
    "    # YOUR CODE HERE\n",
    "    non_ordinal_categorical_preproc = make_pipeline(\n",
    "        SimpleImputer(strategy=\"most_frequent\"), OneHotEncoder() \n",
    "    )\n",
    "    ######################################\n",
    "\n",
    "    # Let's impute the numerical columns to make sure we can handle missing values\n",
    "    # (note that we do not scale because the RF algorithm does not need that)\n",
    "    zero_imputed = [\n",
    "        \"minimum_nights\",\n",
    "        \"number_of_reviews\",\n",
    "        \"reviews_per_month\",\n",
    "        \"calculated_host_listings_count\",\n",
    "        \"availability_365\",\n",
    "        \"longitude\",\n",
    "        \"latitude\"\n",
    "    ]\n",
    "    zero_imputer = SimpleImputer(strategy=\"constant\", fill_value=0)\n",
    "\n",
    "    # A MINIMAL FEATURE ENGINEERING step:\n",
    "    # we create a feature that represents the number of days passed since the last review\n",
    "    # First we impute the missing review date with an old date (because there hasn't been\n",
    "    # a review for a long time), and then we create a new feature from it,\n",
    "    date_imputer = make_pipeline(\n",
    "        SimpleImputer(strategy='constant', fill_value='2010-01-01'),\n",
    "        FunctionTransformer(delta_date_feature, check_inverse=False, validate=False)\n",
    "    )\n",
    "\n",
    "    # Some minimal NLP for the \"name\" column\n",
    "    reshape_to_1d = FunctionTransformer(np.reshape, kw_args={\"newshape\": -1})\n",
    "    name_tfidf = make_pipeline(\n",
    "        SimpleImputer(strategy=\"constant\", fill_value=\"\"),\n",
    "        reshape_to_1d,\n",
    "        TfidfVectorizer(\n",
    "            binary=False,\n",
    "            max_features=max_tfidf_features,\n",
    "            stop_words='english'\n",
    "        ),\n",
    "    )\n",
    "\n",
    "    # Let's put everything together\n",
    "    preprocessor = ColumnTransformer(\n",
    "        transformers=[\n",
    "            (\"ordinal_cat\", ordinal_categorical_preproc, ordinal_categorical),\n",
    "            (\"non_ordinal_cat\", non_ordinal_categorical_preproc, non_ordinal_categorical),\n",
    "            (\"impute_zero\", zero_imputer, zero_imputed),\n",
    "            (\"transform_date\", date_imputer, [\"last_review\"]),\n",
    "            (\"transform_name\", name_tfidf, [\"name\"])\n",
    "        ],\n",
    "        remainder=\"drop\",  # This drops the columns that we do not transform\n",
    "    )\n",
    "\n",
    "    processed_features = ordinal_categorical + non_ordinal_categorical + zero_imputed + [\"last_review\", \"name\"]\n",
    "\n",
    "    # Create random forest\n",
    "    random_Forest = RandomForestRegressor(**rf_config)\n",
    "\n",
    "    # YOUR CODE HERE\n",
    "    sk_pipe = Pipeline(\n",
    "        steps=[\n",
    "            (\"preprocessor\", preprocessor),\n",
    "            (\"random_forest\", random_Forest)\n",
    "        ]\n",
    "    )\n",
    "\n",
    "    return sk_pipe, processed_features\n"
   ]
  },
  {
   "cell_type": "code",
   "execution_count": 51,
   "id": "e831dbf7",
   "metadata": {},
   "outputs": [],
   "source": [
    "def delta_date_feature(dates):\n",
    "    \"\"\"\n",
    "    Given a 2d array containing dates (in any format recognized by pd.to_datetime), it returns the delta in days\n",
    "    between each date and the most recent date in its column\n",
    "    \"\"\"\n",
    "    date_sanitized = pd.DataFrame(dates).apply(pd.to_datetime)\n",
    "    return date_sanitized.apply(lambda d: (d.max() -d).dt.days, axis=0).to_numpy()\n"
   ]
  },
  {
   "cell_type": "code",
   "execution_count": 52,
   "id": "00f73e23",
   "metadata": {},
   "outputs": [],
   "source": [
    "sk_pipe, processed_features = get_inference_pipeline(rf_config, max_tfidf_features)"
   ]
  },
  {
   "cell_type": "code",
   "execution_count": 53,
   "id": "434cdd9d",
   "metadata": {},
   "outputs": [],
   "source": [
    "sk_pipe.fit(X_train,y_train)\n",
    "######################################\n",
    "\n",
    "# Compute r2 and MAE\n",
    "r_squared = sk_pipe.score(X_val, y_val)\n",
    "\n",
    "y_pred = sk_pipe.predict(X_val)\n",
    "mae = mean_absolute_error(y_val, y_pred)"
   ]
  },
  {
   "cell_type": "code",
   "execution_count": 54,
   "id": "567026ca",
   "metadata": {},
   "outputs": [
    {
     "name": "stdout",
     "output_type": "stream",
     "text": [
      "35.939468749999996 0.47037907053722505\n"
     ]
    }
   ],
   "source": [
    "print(mae, r_squared)\n"
   ]
  },
  {
   "cell_type": "code",
   "execution_count": 55,
   "id": "76a50bd1",
   "metadata": {},
   "outputs": [],
   "source": [
    "\n",
    "def plot_feature_importance(pipe, feat_names):\n",
    "    # We collect the feature importance for all non-nlp features first\n",
    "    feat_imp = pipe[\"random_forest\"].feature_importances_[: len(feat_names)-1]\n",
    "    # For the NLP feature we sum across all the TF-IDF dimensions into a global\n",
    "    # NLP importance\n",
    "    nlp_importance = sum(pipe[\"random_forest\"].feature_importances_[len(feat_names) - 1:])\n",
    "    feat_imp = np.append(feat_imp, nlp_importance)\n",
    "    fig_feat_imp, sub_feat_imp = plt.subplots(figsize=(10, 10))\n",
    "    # idx = np.argsort(feat_imp)[::-1]\n",
    "    sub_feat_imp.bar(range(feat_imp.shape[0]), feat_imp, color=\"r\", align=\"center\")\n",
    "    _ = sub_feat_imp.set_xticks(range(feat_imp.shape[0]))\n",
    "    _ = sub_feat_imp.set_xticklabels(np.array(feat_names), rotation=90)\n",
    "    fig_feat_imp.tight_layout()\n",
    "    return fig_feat_imp\n"
   ]
  },
  {
   "cell_type": "code",
   "execution_count": 56,
   "id": "bdb060ea",
   "metadata": {},
   "outputs": [],
   "source": [
    "# # signature = mlflow.models.infer_signature(X_val, y_pred)\n",
    "# mlflow.sklearn.save_model(\n",
    "#         sk_pipe,\n",
    "#         \"random_forest_dirr\",\n",
    "#         serialization_format=mlflow.sklearn.SERIALIZATION_FORMAT_CLOUDPICKLE,\n",
    "#         # signature=signature,\n",
    "#         input_example=X_val.iloc[:2]\n",
    "#     )"
   ]
  },
  {
   "cell_type": "code",
   "execution_count": 57,
   "id": "57149a02",
   "metadata": {},
   "outputs": [],
   "source": [
    "run.config.update(rf_config)"
   ]
  },
  {
   "cell_type": "code",
   "execution_count": 58,
   "id": "152afdeb",
   "metadata": {},
   "outputs": [
    {
     "name": "stderr",
     "output_type": "stream",
     "text": [
      "\u001b[34m\u001b[1mwandb\u001b[0m: Adding directory to artifact (./random_forest_dir)... Done. 0.2s\n"
     ]
    },
    {
     "data": {
      "image/png": "[encoded data removed]",
      "text/plain": [
       "<Figure size 1000x1000 with 1 Axes>"
      ]
     },
     "metadata": {},
     "output_type": "display_data"
    }
   ],
   "source": [
    "artifact = wandb.Artifact(\n",
    "        'output_artifact',\n",
    "        type=\"model_export\",\n",
    "        description=\"Random Forest regressor pipeline export\",\n",
    "    )\n",
    "# artifact.add_dir(\"random_forest_dir\")\n",
    "\n",
    "run.log_artifact(artifact)\n",
    "\n",
    "######################################\n",
    "\n",
    "# Plot feature importance\n",
    "fig_feat_imp = plot_feature_importance(sk_pipe, processed_features)\n",
    "\n",
    "######################################\n",
    "# Here we save r_squared under the \"r2\" key\n",
    "run.summary['r2'] = r_squared\n",
    "\n",
    "# Now log the variable \"mae\" under the key \"mae\".\n",
    "# YOUR CODE HERE\n",
    "run.summary['mae'] = mae\n",
    "######################################\n",
    "\n",
    "# Upload to W&B the feture importance visualization\n",
    "run.log(\n",
    "    {\n",
    "      \"feature_importance\": wandb.Image(fig_feat_imp),\n",
    "    }\n",
    ")"
   ]
  },
  {
   "cell_type": "code",
   "execution_count": 59,
   "id": "42c3d7c8",
   "metadata": {},
   "outputs": [
    {
     "name": "stderr",
     "output_type": "stream",
     "text": [
      "Run pip install nbformat to save notebook history\n"
     ]
    },
    {
     "data": {
      "text/html": [
       "<br/>Waiting for W&B process to finish, PID 32421<br/>Program ended successfully."
      ],
      "text/plain": [
       "<IPython.core.display.HTML object>"
      ]
     },
     "metadata": {},
     "output_type": "display_data"
    },
    {
     "data": {
      "text/html": [
       "Find user logs for this run at: <code>/Users/apple/Desktop/ranga_udacity/nd0821-c2-build-model-workflow-starter/src/train_random_forest/wandb/run-20230811_061847-3bxy969r/logs/debug.log</code>"
      ],
      "text/plain": [
       "<IPython.core.display.HTML object>"
      ]
     },
     "metadata": {},
     "output_type": "display_data"
    },
    {
     "data": {
      "text/html": [
       "Find internal logs for this run at: <code>/Users/apple/Desktop/ranga_udacity/nd0821-c2-build-model-workflow-starter/src/train_random_forest/wandb/run-20230811_061847-3bxy969r/logs/debug-internal.log</code>"
      ],
      "text/plain": [
       "<IPython.core.display.HTML object>"
      ]
     },
     "metadata": {},
     "output_type": "display_data"
    },
    {
     "data": {
      "text/html": [
       "<h3>Run summary:</h3><br/><style>\n",
       "    table.wandb td:nth-child(1) { padding: 0 10px; text-align: right }\n",
       "    </style><table class=\"wandb\">\n",
       "<tr><td>r2</td><td>0.47038</td></tr><tr><td>mae</td><td>35.93947</td></tr><tr><td>_runtime</td><td>155</td></tr><tr><td>_timestamp</td><td>1691715082</td></tr><tr><td>_step</td><td>0</td></tr></table>"
      ],
      "text/plain": [
       "<IPython.core.display.HTML object>"
      ]
     },
     "metadata": {},
     "output_type": "display_data"
    },
    {
     "data": {
      "text/html": [
       "<h3>Run history:</h3><br/><style>\n",
       "    table.wandb td:nth-child(1) { padding: 0 10px; text-align: right }\n",
       "    </style><table class=\"wandb\">\n",
       "<tr><td>_runtime</td><td>▁</td></tr><tr><td>_timestamp</td><td>▁</td></tr><tr><td>_step</td><td>▁</td></tr></table><br/>"
      ],
      "text/plain": [
       "<IPython.core.display.HTML object>"
      ]
     },
     "metadata": {},
     "output_type": "display_data"
    },
    {
     "data": {
      "text/html": [
       "Synced 6 W&B file(s), 1 media file(s), 0 artifact file(s) and 0 other file(s)"
      ],
      "text/plain": [
       "<IPython.core.display.HTML object>"
      ]
     },
     "metadata": {},
     "output_type": "display_data"
    },
    {
     "data": {
      "text/html": [
       "\n",
       "                    <br/>Synced <strong style=\"color:#cdcd00\">decent-flower-64</strong>: <a href=\"https://wandb.ai/rangarajp1308/nyc_airbnb/runs/3bxy969r\" target=\"_blank\">https://wandb.ai/rangarajp1308/nyc_airbnb/runs/3bxy969r</a><br/>\n",
       "                "
      ],
      "text/plain": [
       "<IPython.core.display.HTML object>"
      ]
     },
     "metadata": {},
     "output_type": "display_data"
    }
   ],
   "source": [
    "run.finish()"
   ]
  }
 ],
 "metadata": {
  "kernelspec": {
   "display_name": "Python 3 (ipykernel)",
   "language": "python",
   "name": "python3"
  },
  "language_info": {
   "codemirror_mode": {
    "name": "ipython",
    "version": 3
   },
   "file_extension": ".py",
   "mimetype": "text/x-python",
   "name": "python",
   "nbconvert_exporter": "python",
   "pygments_lexer": "ipython3",
   "version": "3.8.17"
  }
 },
 "nbformat": 4,
 "nbformat_minor": 5
}
